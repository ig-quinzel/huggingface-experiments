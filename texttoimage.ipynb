{
  "nbformat": 4,
  "nbformat_minor": 0,
  "metadata": {
    "colab": {
      "provenance": [],
      "gpuType": "T4",
      "authorship_tag": "ABX9TyOSbKG2UzV6/niI2K8zWjM0",
      "include_colab_link": true
    },
    "kernelspec": {
      "name": "python3",
      "display_name": "Python 3"
    },
    "language_info": {
      "name": "python"
    },
    "accelerator": "GPU"
  },
  "cells": [
    {
      "cell_type": "markdown",
      "metadata": {
        "id": "view-in-github",
        "colab_type": "text"
      },
      "source": [
        "<a href=\"https://colab.research.google.com/github/ig-quinzel/huggingface-experiments/blob/main/texttoimage.ipynb\" target=\"_parent\"><img src=\"https://colab.research.google.com/assets/colab-badge.svg\" alt=\"Open In Colab\"/></a>"
      ]
    },
    {
      "cell_type": "code",
      "execution_count": null,
      "metadata": {
        "id": "qinjGUPHm3m4"
      },
      "outputs": [],
      "source": [
        "!pip install diffusers transformers accelerate"
      ]
    },
    {
      "cell_type": "code",
      "source": [
        "from diffusers import StableDiffusionPipeline\n",
        "import matplotlib.pyplot as plt\n",
        "import torch"
      ],
      "metadata": {
        "id": "VojjML4Am78R"
      },
      "execution_count": null,
      "outputs": []
    },
    {
      "cell_type": "code",
      "source": [
        "!pip  show torch"
      ],
      "metadata": {
        "id": "ZqF13aaroJh8"
      },
      "execution_count": null,
      "outputs": []
    },
    {
      "cell_type": "code",
      "source": [
        "mod1=\"dreamlike-art/dreamlike-diffusion-1.0\"\n",
        "mod2=\"stabilityai/stable-diffusion-xl-base-1.0\"\n",
        "pipe=StableDiffusionPipeline.from_pretrained(mod1,torch_dtype=torch.float16,use_safetensors=True)\n",
        "pipe=pipe.to(\"cuda\")"
      ],
      "metadata": {
        "id": "3xbSnoYAoV-b"
      },
      "execution_count": null,
      "outputs": []
    },
    {
      "cell_type": "code",
      "source": [
        "prompt=\"\"\"Cinematic overhead shot of a beautiful women standing still a brick city sidesalk, wearing a dark oversized blazer, motion blurred crowd rushes past around me moody lighting 35mm film look.\n",
        "Shallow depth of field, sharp focus on me. Ration portrait 4:3\"\"\""
      ],
      "metadata": {
        "id": "YxjKYGDLpgM7"
      },
      "execution_count": null,
      "outputs": []
    },
    {
      "cell_type": "code",
      "source": [
        "image=pipe(prompt).images[0]"
      ],
      "metadata": {
        "id": "29E1_C3Gp0mH"
      },
      "execution_count": null,
      "outputs": []
    },
    {
      "cell_type": "code",
      "source": [
        "print(\"prompt : \",prompt)\n",
        "plt.imshow(image);\n",
        "plt.axis('off')"
      ],
      "metadata": {
        "id": "4s2siGZhqWlC"
      },
      "execution_count": null,
      "outputs": []
    },
    {
      "cell_type": "code",
      "source": [
        "def gen(pipe,prompt,params):\n",
        "  img=pipe(prompt,**params).images\n",
        "  num=len(img)\n",
        "  if num>1:\n",
        "    fig,ax=plt.subplots(nrows=1,ncols=num)\n",
        "    for i in range(num):\n",
        "      ax[i].imshow(img[i]);\n",
        "      ax[i].axis('off');\n",
        "  else:\n",
        "    fig=plt.figure()\n",
        "    plt.imshow(img[0]);\n",
        "    plt.axis('off');\n",
        "  plt.tight_layout()\n",
        "\n"
      ],
      "metadata": {
        "id": "vDyYloXErTDV"
      },
      "execution_count": null,
      "outputs": []
    },
    {
      "cell_type": "code",
      "source": [
        "params={'num_inference_steps':100}\n",
        "gen(pipe,prompt,params)"
      ],
      "metadata": {
        "id": "KdsLo-KPwRT8"
      },
      "execution_count": null,
      "outputs": []
    },
    {
      "cell_type": "code",
      "source": [
        "params={'num_inference_steps':100,'width':512,\"height\":int(1.5*640)}\n",
        "gen(pipe,prompt,params)"
      ],
      "metadata": {
        "id": "FNkpGU03wnwp"
      },
      "execution_count": null,
      "outputs": []
    },
    {
      "cell_type": "code",
      "source": [
        "params={'num_inference_steps':100,'num_images_per_prompt':2}\n",
        "gen(pipe,prompt,params)"
      ],
      "metadata": {
        "id": "W8Qok2iXwzGk"
      },
      "execution_count": null,
      "outputs": []
    }
  ]
}