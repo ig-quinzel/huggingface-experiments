{
  "nbformat": 4,
  "nbformat_minor": 0,
  "metadata": {
    "colab": {
      "provenance": [],
      "gpuType": "T4",
      "authorship_tag": "ABX9TyPF9TpN5u4nHC+rkyvFzV09",
      "include_colab_link": true
    },
    "kernelspec": {
      "name": "python3",
      "display_name": "Python 3"
    },
    "language_info": {
      "name": "python"
    },
    "accelerator": "GPU"
  },
  "cells": [
    {
      "cell_type": "markdown",
      "metadata": {
        "id": "view-in-github",
        "colab_type": "text"
      },
      "source": [
        "<a href=\"https://colab.research.google.com/github/ig-quinzel/huggingface-experiments/blob/main/texttospeech.ipynb\" target=\"_parent\"><img src=\"https://colab.research.google.com/assets/colab-badge.svg\" alt=\"Open In Colab\"/></a>"
      ]
    },
    {
      "cell_type": "code",
      "source": [
        "from transformers import pipeline"
      ],
      "metadata": {
        "id": "t3KvNK8vydwq"
      },
      "execution_count": null,
      "outputs": []
    },
    {
      "cell_type": "code",
      "source": [
        "text=\"Hey all. Myself Nandana. I am a data science student\"\n",
        "pipe=pipeline(\"text-to-speech\",model='suno/bark-small',device=\"cuda\")\n",
        "output=pipe(text)"
      ],
      "metadata": {
        "id": "_z-usx4Kyo-n"
      },
      "execution_count": null,
      "outputs": []
    },
    {
      "cell_type": "code",
      "source": [
        "output"
      ],
      "metadata": {
        "id": "b7HjjQ5wzEMv"
      },
      "execution_count": null,
      "outputs": []
    },
    {
      "cell_type": "code",
      "source": [
        "from IPython.display import Audio\n",
        "Audio(output['audio'],rate=output['sampling_rate'])"
      ],
      "metadata": {
        "id": "eQ5OFs-ozHZO"
      },
      "execution_count": null,
      "outputs": []
    }
  ]
}